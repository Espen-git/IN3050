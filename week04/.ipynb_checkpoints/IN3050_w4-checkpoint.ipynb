{
 "cells": [
  {
   "cell_type": "markdown",
   "metadata": {},
   "source": [
    "# IN3050/IN4050 - Week 4"
   ]
  },
  {
   "cell_type": "markdown",
   "metadata": {},
   "source": [
    "## Preserving Diversity\n",
    "\n",
    "### 1. Why do we want to preserve diversity?"
   ]
  },
  {
   "cell_type": "code",
   "execution_count": null,
   "metadata": {},
   "outputs": [],
   "source": [
    "So we can chose between multiple solutions.\n",
    "Not get stuck in local optima."
   ]
  },
  {
   "cell_type": "markdown",
   "metadata": {},
   "source": [
    "### 2. What are the main differences between explicit and implicit approaches?"
   ]
  },
  {
   "cell_type": "code",
   "execution_count": null,
   "metadata": {},
   "outputs": [],
   "source": [
    "Implicit has a system / structure such that the divesity is inevetble because of the nature of the system.\n",
    "\n",
    "While in explisit you write down concrete rules for whom to chose so that you garante diversity. "
   ]
  },
  {
   "cell_type": "markdown",
   "metadata": {},
   "source": [
    "## Pareto Optimality\n",
    "\n",
    "![front_points_1 \\label{front_points_1}](front_points_1.png) <center>Figure 1 a</center>\n",
    "![front_points_2](front_points_2.png) <center>Figure 1 b</center>\n",
    "\n",
    "### 3. For figure a and b above, find the Pareto optimal set when\n",
    "* Minimizing both x and y\n",
    "* Minimizing x, maximizing y\n",
    "* Maximizing x, minimizing y\n",
    "* Maximizing both x and y"
   ]
  },
  {
   "cell_type": "code",
   "execution_count": null,
   "metadata": {},
   "outputs": [],
   "source": [
    "a- 1 2 5 7 \n",
    "b- 1\n",
    "\n",
    "a- 1 3 4\n",
    "b- 1 2 3 4\n",
    "\n",
    "a- 7 8\n",
    "b- 1 2 5 7 8\n",
    "\n",
    "a- 3 4 8\n",
    "b- 4 6 8"
   ]
  },
  {
   "cell_type": "markdown",
   "metadata": {},
   "source": [
    "## Hybrid Algorithms\n",
    "### 4. Why can hybrid algorithms make it harder to maintain diversity?"
   ]
  },
  {
   "cell_type": "code",
   "execution_count": null,
   "metadata": {},
   "outputs": [],
   "source": [
    "You 'push' the learning in a given direction by gining it some referense that may be alot better than the random searching\n",
    "so all the solutions may drift towards that type of solution."
   ]
  },
  {
   "cell_type": "markdown",
   "metadata": {},
   "source": [
    "## Applying Evolutionary Algorithms\n",
    "\n",
    "### 5. Drone Example\n",
    "Consider the following problem of designing a drone body with the goal of flying as fast as possible. Down below is a simple example of the drone body and some characteristics of the body that could be used. We want to solve this using an Evolutionary Algorithm. Write down some ways of solving the following points of the problem. (No code needed, just explain your choices)\n",
    "\n",
    "1. Fitness function for evaluating?\n",
    "2. What representation to use?\n",
    "3. Mutation, Crossovers\n",
    "4. Parent selection and survivor selection\n",
    "5. End condition\n",
    "![drone_problem](drone.png)"
   ]
  },
  {
   "cell_type": "code",
   "execution_count": null,
   "metadata": {},
   "outputs": [],
   "source": [
    "1) Max speed acheved or average speed.\n",
    "\n",
    "2) Real value or int representing mm.\n",
    "\n",
    "3) The different parts may only mix with values from the same part in a different idividual.\n",
    "\n",
    "4) Some elitism and some random.\n",
    "\n",
    "5) Max number of generations."
   ]
  }
 ],
 "metadata": {
  "kernelspec": {
   "display_name": "Python 3",
   "language": "python",
   "name": "python3"
  },
  "language_info": {
   "codemirror_mode": {
    "name": "ipython",
    "version": 3
   },
   "file_extension": ".py",
   "mimetype": "text/x-python",
   "name": "python",
   "nbconvert_exporter": "python",
   "pygments_lexer": "ipython3",
   "version": "3.7.9"
  }
 },
 "nbformat": 4,
 "nbformat_minor": 2
}
