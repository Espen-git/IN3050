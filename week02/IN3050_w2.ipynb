{
 "cells": [
  {
   "cell_type": "markdown",
   "metadata": {},
   "source": [
    "### 1. Given the function $ f(x) = -x^{4} + 2x^{3} + 2x^{2} - x $ and it's derivative $f'(x) = {- 4 x^3 + 6 x^2 + 4 x - 1}$"
   ]
  },
  {
   "cell_type": "code",
   "execution_count": 1,
   "metadata": {},
   "outputs": [],
   "source": [
    "# Standard import and functions\n",
    "# Run this cell first\n",
    "%matplotlib inline\n",
    "import numpy as np\n",
    "import matplotlib.pyplot as plt\n",
    "\n",
    "def f(x):\n",
    "    return -np.power(x, 4) + 2 * np.power(x, 3) + 2 * np.power(x, 2) - x\n",
    "\n",
    "def df(x):\n",
    "    return -4 * np.power(x, 3) + 6 * np.power(x, 2) + 4 * x - 1"
   ]
  },
  {
   "cell_type": "markdown",
   "metadata": {},
   "source": [
    "#### a. Plot the function, and its gradient (derivative) from $x = -2$ to $x = 3$"
   ]
  },
  {
   "cell_type": "code",
   "execution_count": 8,
   "metadata": {},
   "outputs": [
    {
     "data": {
      "image/png": "[encoded data removed]",
      "text/plain": [
       "<Figure size 432x288 with 1 Axes>"
      ]
     },
     "metadata": {
      "needs_background": "light"
     },
     "output_type": "display_data"
    }
   ],
   "source": [
    "x = np.linspace(-2, 3, 1000)\n",
    "plt.plot(x, f(x), label='f(x)')\n",
    "plt.plot(x, df(x), label='fd(x)')\n",
    "plt.legend()\n",
    "plt.show()"
   ]
  },
  {
   "cell_type": "markdown",
   "metadata": {},
   "source": [
    "#### b. Maximize using gradient ascent. You can try step size 0.1 and start somewhere in the range $[-2, 3]$. "
   ]
  },
  {
   "cell_type": "markdown",
   "metadata": {},
   "source": [
    "Gradient ascent: $x^{(k+1)} = x^{(k)} + \\gamma \\Delta f(x^{(k)})$"
   ]
  },
  {
   "cell_type": "code",
   "execution_count": 92,
   "metadata": {},
   "outputs": [
    {
     "name": "stdout",
     "output_type": "stream",
     "text": [
      "1.9475528087873608\n"
     ]
    }
   ],
   "source": [
    "x0 = np.random.randint(-2, 4)\n",
    "x_new = x0\n",
    "step = 0.1\n",
    "while abs(df(x_new)) > 0.00001:\n",
    "    x_old = x_new\n",
    "    x_new = x_old + (step * df(x_old))\n",
    "print(x_new)"
   ]
  },
  {
   "cell_type": "markdown",
   "metadata": {},
   "source": [
    "##### How does the choice of starting point and step size affect the algorithm's performance?\n",
    "\n",
    "##### Is there a starting point where the algorithm would not even be able to find a local maximum?"
   ]
  },
  {
   "cell_type": "code",
   "execution_count": 93,
   "metadata": {},
   "outputs": [
    {
     "data": {
      "text/plain": [
       "\"\\nStep size can cause overshooting a solution or going slow\\nstarting point affects whitch solution we find\\nbetween -0.64 and 1.94 is a point where f'(x) = 0 but is not a local maximum.\\n\""
      ]
     },
     "execution_count": 93,
     "metadata": {},
     "output_type": "execute_result"
    }
   ],
   "source": [
    "\"\"\"\n",
    "Step size can cause overshooting a solution or going slow\n",
    "starting point affects whitch solution we find\n",
    "between -0.64 and 1.94 is a point where f'(x) = 0 but is not a local maximum.\n",
    "\"\"\""
   ]
  },
  {
   "cell_type": "markdown",
   "metadata": {},
   "source": [
    "#### c. Assume that we are only interested in maxima of $f(x)$, where $-2 \\leq x \\leq 3$, and x increases in step length of 0.5 ($\\Delta x = 0.5$). Perform an exhaustive search to maximize $f(x)$ and plot the result"
   ]
  },
  {
   "cell_type": "code",
   "execution_count": null,
   "metadata": {},
   "outputs": [],
   "source": [
    "# Add your solution here"
   ]
  },
  {
   "cell_type": "markdown",
   "metadata": {},
   "source": [
    "#### d. Gradient ascent and hill climbing are quite similar, and they are based almost exclusively on exploitation. Can you think of any additions to these algorithms in order to do more exploration?"
   ]
  },
  {
   "cell_type": "code",
   "execution_count": null,
   "metadata": {},
   "outputs": [],
   "source": [
    "# Add your solution here"
   ]
  },
  {
   "cell_type": "markdown",
   "metadata": {},
   "source": [
    "#### e. Which algorithm do you think is the most efficient at maximizing $f(x)$ under the conditions in Problem **d**; exhaustive search or simulated annealing?"
   ]
  },
  {
   "cell_type": "code",
   "execution_count": null,
   "metadata": {},
   "outputs": [],
   "source": [
    "# Add your solution here"
   ]
  }
 ],
 "metadata": {
  "kernelspec": {
   "display_name": "Python 3",
   "language": "python",
   "name": "python3"
  },
  "language_info": {
   "codemirror_mode": {
    "name": "ipython",
    "version": 3
   },
   "file_extension": ".py",
   "mimetype": "text/x-python",
   "name": "python",
   "nbconvert_exporter": "python",
   "pygments_lexer": "ipython3",
   "version": "3.7.9"
  }
 },
 "nbformat": 4,
 "nbformat_minor": 2
}
